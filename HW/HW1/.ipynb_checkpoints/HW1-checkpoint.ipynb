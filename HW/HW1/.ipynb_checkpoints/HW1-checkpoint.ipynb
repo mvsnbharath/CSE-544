{
 "cells": [
  {
   "cell_type": "code",
   "execution_count": 74,
   "metadata": {},
   "outputs": [],
   "source": [
    "import random\n",
    "import math\n",
    "\n",
    "allPossibilities =[(5,10**2),(5,10**3),(5,10**4),(5,10**5),(20,10**2),(20,10**3),(20,10**4),(20,10**5)]\n",
    "#allPossibilities =[(5,10**2)]\n",
    "\n",
    "def atleastOneDiscardedIPhone(n,N):\n",
    "    atleastOneCorrectSequence = 0\n",
    "    for i in range(N):\n",
    "        myList = list(range(1,n+1))\n",
    "        random.shuffle(myList)\n",
    "        if atLeastOneCorrectPresent(myList,n):\n",
    "            atleastOneCorrectSequence+=1\n",
    "    \n",
    "    print (\"For(n,N):=({},{}),the approximated probability is {}\".format(n,N,atleastOneCorrectSequence/N))  \n",
    "    return atleastOneCorrectSequence\n",
    "\n",
    "\n",
    "def atLeastOneCorrectPresent(myList,n):\n",
    "    for i in range(1,n+1):\n",
    "        if myList[i-1]==i:\n",
    "            return True\n",
    "    return False\n"
   ]
  },
  {
   "cell_type": "code",
   "execution_count": 75,
   "metadata": {},
   "outputs": [
    {
     "name": "stdout",
     "output_type": "stream",
     "text": [
      "For(n,N):=(5,100),the approximated probability is 0.56\n",
      "For(n,N):=(5,1000),the approximated probability is 0.622\n",
      "For(n,N):=(5,10000),the approximated probability is 0.6352\n",
      "For(n,N):=(5,100000),the approximated probability is 0.63262\n",
      "For(n,N):=(20,100),the approximated probability is 0.62\n",
      "For(n,N):=(20,1000),the approximated probability is 0.635\n",
      "For(n,N):=(20,10000),the approximated probability is 0.635\n",
      "For(n,N):=(20,100000),the approximated probability is 0.63069\n"
     ]
    }
   ],
   "source": [
    "for permutation in allPossibilities:\n",
    "    n,N = permutation[0],permutation[1]\n",
    "    atleastOneDiscardedIPhone(n,N)"
   ]
  }
 ],
 "metadata": {
  "kernelspec": {
   "display_name": "Python 3",
   "language": "python",
   "name": "python3"
  },
  "language_info": {
   "codemirror_mode": {
    "name": "ipython",
    "version": 3
   },
   "file_extension": ".py",
   "mimetype": "text/x-python",
   "name": "python",
   "nbconvert_exporter": "python",
   "pygments_lexer": "ipython3",
   "version": "3.7.3"
  }
 },
 "nbformat": 4,
 "nbformat_minor": 2
}
